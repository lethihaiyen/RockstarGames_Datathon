{
 "cells": [
  {
   "cell_type": "markdown",
   "id": "99774119",
   "metadata": {},
   "source": [
    "Video Youtube link :"
   ]
  },
  {
   "cell_type": "markdown",
   "id": "43e9546e",
   "metadata": {},
   "source": [
    "https://www.youtube.com/watch?v=LzRMJeCSOsU"
   ]
  },
  {
   "cell_type": "markdown",
   "id": "2e46a37a",
   "metadata": {},
   "source": [
    "Summary of the project : \n",
    "Exploring the number of users, daily playtime and pvc sum to determine with platform has the largest untapped and potentially most profitable market. After identification, we analyzed the activity and item data for the chosen platform to determine how collaborations can be made, such as which features can be enhanced. "
   ]
  }
 ],
 "metadata": {
  "kernelspec": {
   "display_name": "Python 3 (ipykernel)",
   "language": "python",
   "name": "python3"
  },
  "language_info": {
   "codemirror_mode": {
    "name": "ipython",
    "version": 3
   },
   "file_extension": ".py",
   "mimetype": "text/x-python",
   "name": "python",
   "nbconvert_exporter": "python",
   "pygments_lexer": "ipython3",
   "version": "3.9.7"
  }
 },
 "nbformat": 4,
 "nbformat_minor": 5
}
